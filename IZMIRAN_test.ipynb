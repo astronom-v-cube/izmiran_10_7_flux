{
 "cells": [
  {
   "cell_type": "code",
   "execution_count": 11,
   "metadata": {},
   "outputs": [],
   "source": [
    "import datetime\n",
    "\n",
    "day_3 = str.replace(str(datetime.date.today() - datetime.timedelta(days=1)), '-', '')\n",
    "day_2 = str.replace(str(datetime.date.today() - datetime.timedelta(days=2)), '-', '')\n",
    "day_1 = str.replace(str(datetime.date.today() - datetime.timedelta(days=3)), '-', '')\n",
    "\n",
    "file_3 = f'srh_0306_cp_{day_3}.fits'\n",
    "file_2 = f'srh_0306_cp_{day_2}.fits'\n",
    "file_1 = f'srh_0306_cp_{day_1}.fits'\n"
   ]
  },
  {
   "cell_type": "code",
   "execution_count": 15,
   "metadata": {},
   "outputs": [
    {
     "data": {
      "text/plain": [
       "'SRH/corrPlot/2025/03'"
      ]
     },
     "execution_count": 15,
     "metadata": {},
     "output_type": "execute_result"
    }
   ],
   "source": [
    "f'SRH/corrPlot/{day_3[0:4]}/{day_3[4:6]}'"
   ]
  }
 ],
 "metadata": {
  "kernelspec": {
   "display_name": "Python 3",
   "language": "python",
   "name": "python3"
  },
  "language_info": {
   "codemirror_mode": {
    "name": "ipython",
    "version": 3
   },
   "file_extension": ".py",
   "mimetype": "text/x-python",
   "name": "python",
   "nbconvert_exporter": "python",
   "pygments_lexer": "ipython3",
   "version": "3.12.0"
  }
 },
 "nbformat": 4,
 "nbformat_minor": 2
}
